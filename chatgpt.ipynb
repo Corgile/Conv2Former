{
 "cells": [
  {
   "cell_type": "markdown",
   "id": "536112ff851a956a",
   "metadata": {},
   "source": [
    "## 设置随机种子，保证实验可复现"
   ]
  },
  {
   "cell_type": "code",
   "id": "d9dd3966f65b1b0",
   "metadata": {
    "ExecuteTime": {
     "end_time": "2025-02-14T06:46:50.310397Z",
     "start_time": "2025-02-14T06:46:50.307547Z"
    }
   },
   "source": [
    "import random\n",
    "import torch\n",
    "\n",
    "\n",
    "# -------------------------------\n",
    "# 1. 设置随机种子，保证实验可复现\n",
    "# -------------------------------\n",
    "def set_seed(seed=42):\n",
    "    random.seed(seed)\n",
    "    torch.manual_seed(seed)\n",
    "    torch.cuda.manual_seed_all(seed)\n",
    "\n",
    "\n",
    "set_seed(42)\n",
    "\n",
    "# 创建保存中间结果的目录\n",
    "import os\n",
    "\n",
    "os.makedirs(\"intermediates\", exist_ok=True)"
   ],
   "outputs": [],
   "execution_count": 83
  },
  {
   "cell_type": "markdown",
   "id": "478cdd0dfd5e99e",
   "metadata": {},
   "source": [
    "## 参数配置"
   ]
  },
  {
   "cell_type": "code",
   "id": "22ef30d33f89387b",
   "metadata": {
    "ExecuteTime": {
     "end_time": "2025-02-14T06:46:50.319990Z",
     "start_time": "2025-02-14T06:46:50.318560Z"
    }
   },
   "source": [
    "config = {\n",
    "    \"data_dir\": \"/data/Workspace/CIC-IoTDataset2023/bin-class\",  # 数据集目录\n",
    "    \"num_classes\": 2,  # 类别数\n",
    "    \"batch_size\": 128,  # 批量大小（根据显存实际情况调整）\n",
    "    \"lr\": 1e-4,  # 学习率\n",
    "    \"epochs\": 100,  # 总训练轮数\n",
    "    \"model_name\": \"Conv2Former\",\n",
    "    \"device\": \"cuda\" if torch.cuda.is_available() else \"cpu\"\n",
    "}"
   ],
   "outputs": [],
   "execution_count": 84
  },
  {
   "cell_type": "markdown",
   "id": "691953a405c389f3",
   "metadata": {},
   "source": [
    "## 数据增强设置"
   ]
  },
  {
   "cell_type": "code",
   "id": "695a82d4c5b0d9c7",
   "metadata": {
    "ExecuteTime": {
     "end_time": "2025-02-14T06:46:50.365375Z",
     "start_time": "2025-02-14T06:46:50.363244Z"
    }
   },
   "source": [
    "from torchvision import transforms\n",
    "\n",
    "train_transform = transforms.Compose([\n",
    "    # transforms.RandomResizedCrop(64, scale=(0.8, 1.0)),\n",
    "    transforms.RandomHorizontalFlip(),\n",
    "    transforms.RandomRotation(5),\n",
    "    transforms.ToTensor(),\n",
    "    transforms.Normalize(mean=[0.5], std=[0.5])\n",
    "])\n",
    "\n",
    "valid_transform = transforms.Compose([\n",
    "    transforms.Resize(64),\n",
    "    transforms.CenterCrop(64),\n",
    "    transforms.ToTensor(),\n",
    "    transforms.Normalize(mean=[0.5], std=[0.5])\n",
    "])"
   ],
   "outputs": [],
   "execution_count": 85
  },
  {
   "cell_type": "markdown",
   "id": "257f029541c8be7f",
   "metadata": {},
   "source": [
    "## 数据集与 DataLoader"
   ]
  },
  {
   "cell_type": "code",
   "id": "cc6d0ccf5a78946e",
   "metadata": {
    "ExecuteTime": {
     "end_time": "2025-02-14T06:46:50.464785Z",
     "start_time": "2025-02-14T06:46:50.410825Z"
    }
   },
   "source": [
    "from MyDataset import CustomDataset\n",
    "from torch.utils.data import DataLoader\n",
    "\n",
    "train_dataset = CustomDataset(os.path.join(config[\"data_dir\"], \"train\"), transform=train_transform)\n",
    "valid_dataset = CustomDataset(os.path.join(config[\"data_dir\"], \"valid\"), transform=valid_transform)\n",
    "\n",
    "train_loader = DataLoader(train_dataset, batch_size=config[\"batch_size\"], shuffle=True, num_workers=8, pin_memory=True)\n",
    "valid_loader = DataLoader(valid_dataset, batch_size=config[\"batch_size\"], shuffle=False)"
   ],
   "outputs": [],
   "execution_count": 86
  },
  {
   "cell_type": "markdown",
   "id": "7dfcbda6ce2a52e3",
   "metadata": {},
   "source": [
    "## 模型定义"
   ]
  },
  {
   "cell_type": "code",
   "id": "9699bf510ad237c5",
   "metadata": {
    "ExecuteTime": {
     "end_time": "2025-02-14T06:46:50.582357Z",
     "start_time": "2025-02-14T06:46:50.473412Z"
    }
   },
   "source": [
    "# 这里 dims 与 depths 可根据实验调节，本示例给出较轻量配置\n",
    "from deepseek import Conv2Former\n",
    "\n",
    "model = Conv2Former(dims=[96, 192, 384, 768], depths=[3, 3, 9, 3], num_classes=config[\"num_classes\"])\n",
    "model = model.to(config[\"device\"])"
   ],
   "outputs": [],
   "execution_count": 87
  },
  {
   "cell_type": "markdown",
   "id": "afc320e3239f98df",
   "metadata": {},
   "source": [
    "## 损失函数、优化器与学习率调度器"
   ]
  },
  {
   "cell_type": "code",
   "id": "1a77d7f9471d0aa7",
   "metadata": {
    "ExecuteTime": {
     "end_time": "2025-02-14T06:46:50.591645Z",
     "start_time": "2025-02-14T06:46:50.588050Z"
    }
   },
   "source": [
    "from torch import nn, optim\n",
    "from torch.cuda.amp import GradScaler\n",
    "\n",
    "# 这里采用了类别权重，适用于类别不平衡场景\n",
    "class_weights = torch.tensor([7.0, 1.0])\n",
    "criterion = nn.CrossEntropyLoss(label_smoothing=0.1, weight=class_weights.to(config[\"device\"]))\n",
    "\n",
    "optimizer = optim.AdamW(model.parameters(), lr=config[\"lr\"])\n",
    "scheduler = optim.lr_scheduler.OneCycleLR(optimizer, epochs=config[\"epochs\"], max_lr=1e-3,\n",
    "                                          total_steps=config[\"epochs\"] * len(train_loader),\n",
    "                                          pct_start=0.1, anneal_strategy=\"cos\")\n",
    "# 如果需要可尝试 OneCycleLR 或 Warmup 策略\n",
    "\n",
    "best_val_acc = 0.0\n",
    "scaler = GradScaler()  # 用于混合精度训练"
   ],
   "outputs": [],
   "execution_count": 88
  },
  {
   "cell_type": "markdown",
   "id": "36e51c008a97bb60",
   "metadata": {},
   "source": [
    "## 训练与验证函数"
   ]
  },
  {
   "metadata": {
    "ExecuteTime": {
     "end_time": "2025-02-14T08:25:42.896043Z",
     "start_time": "2025-02-14T08:25:42.892073Z"
    }
   },
   "cell_type": "code",
   "source": [
    "from tqdm.notebook import tqdm\n",
    "from torch.cuda.amp import autocast\n",
    "\n",
    "\n",
    "def train(epoch_num: int):\n",
    "    model.train()\n",
    "    total_loss = 0.0\n",
    "    train_bar = tqdm(train_loader, desc=f\"Train {epoch_num:>3}/{config['epochs']}\", leave=True, unit=\" batch\")\n",
    "    for images, labels in train_bar:\n",
    "        images = images.to(config[\"device\"])\n",
    "        labels = labels.to(config[\"device\"])\n",
    "        optimizer.zero_grad()\n",
    "        with autocast():\n",
    "            outputs = model(images)\n",
    "            loss = criterion(outputs, labels)\n",
    "        scaler.scale(loss).backward()\n",
    "        # 梯度裁剪，防止梯度爆炸\n",
    "        scaler.unscale_(optimizer)\n",
    "        nn.utils.clip_grad_norm_(model.parameters(), max_norm=5.0)\n",
    "        scaler.step(optimizer)\n",
    "        scaler.update()\n",
    "        total_loss += loss.item() * images.size(0)\n",
    "        train_bar.set_postfix(loss=loss.item())\n",
    "    return total_loss / len(train_dataset)\n",
    "\n",
    "\n",
    "def validate(epoch_num: int):\n",
    "    model.eval()\n",
    "    correct = 0\n",
    "    total = 0\n",
    "    all_predicts = []\n",
    "    all_labels = []\n",
    "    valid_bar = tqdm(valid_loader, desc=f\"Valid {epoch_num:>3}/{config['epochs']}\", leave=True, unit=\" batch\")\n",
    "    with torch.no_grad():\n",
    "        for images, labels in valid_bar:\n",
    "            images = images.to(config[\"device\"])\n",
    "            labels = labels.to(config[\"device\"])\n",
    "            # outputs = model(images)\n",
    "            # TTA: 原图 + 水平翻转\n",
    "            outputs = model(images) + model(torch.flip(images, dims=[-1]))\n",
    "            _, predicts = torch.max(outputs, 1)\n",
    "            correct += (predicts == labels).sum().item()\n",
    "            total += labels.size(0)\n",
    "            all_predicts.extend(predicts.cpu().numpy())\n",
    "            all_labels.extend(labels.cpu().numpy())\n",
    "\n",
    "            valid_bar.set_postfix(batch_acc=(predicts == labels).float().mean().item())\n",
    "    valid_acc = correct / total\n",
    "    # from sklearn.metrics import classification_report\n",
    "    # print(classification_report(all_labels, all_predicts, zero_division=0, digits=4))\n",
    "    return valid_acc"
   ],
   "id": "4b6478c422cb70c9",
   "outputs": [],
   "execution_count": 96
  },
  {
   "cell_type": "markdown",
   "id": "9d7d8d9cf1a231d2",
   "metadata": {},
   "source": [
    "## 训练循环"
   ]
  },
  {
   "cell_type": "code",
   "id": "a4981df491121931",
   "metadata": {
    "jupyter": {
     "is_executing": true
    },
    "ExecuteTime": {
     "start_time": "2025-02-14T08:25:46.630338Z"
    }
   },
   "source": [
    "from torch.utils.tensorboard import SummaryWriter\n",
    "\n",
    "writer = SummaryWriter('runs/conv2former_train')\n",
    "train_losses = []\n",
    "valid_accs = []\n",
    "best_model = None\n",
    "\n",
    "for epoch in range(config[\"epochs\"]):\n",
    "    train_loss = train(epoch_num=epoch + 1)\n",
    "    train_losses.append(train_loss)\n",
    "    writer.add_scalar('Loss/train', train_loss, epoch)\n",
    "\n",
    "    valid_acc = validate(epoch_num=epoch + 1)\n",
    "    valid_accs.append(valid_acc)\n",
    "    writer.add_scalar('Accuracy/val', valid_acc, epoch)\n",
    "\n",
    "    scheduler.step()\n",
    "\n",
    "    # 保存最佳模型\n",
    "    if valid_acc > best_val_acc:\n",
    "        best_val_acc = valid_acc\n",
    "        best_model = model\n",
    "\n",
    "    print(f\"Epoch: {epoch + 1}, Train Loss: {train_loss:.4f}, Val Acc: {valid_acc:.4f}\")\n",
    "\n",
    "writer.close()\n",
    "\n",
    "from datetime import datetime\n",
    "\n",
    "timestamp = datetime.now().strftime(\"%Y%m%d_%H_%M\")\n",
    "torch.save(best_model.state_dict(), f\"intermediates/best_model_{timestamp}.pth\")\n"
   ],
   "outputs": [
    {
     "data": {
      "text/plain": [
       "Train   1/100:   0%|          | 0/657 [00:00<?, ? batch/s]"
      ],
      "application/vnd.jupyter.widget-view+json": {
       "version_major": 2,
       "version_minor": 0,
       "model_id": "25ada07c7f7643dbbd97ede155c0c1fb"
      }
     },
     "metadata": {},
     "output_type": "display_data"
    },
    {
     "data": {
      "text/plain": [
       "Valid   1/100:   0%|          | 0/147 [00:00<?, ? batch/s]"
      ],
      "application/vnd.jupyter.widget-view+json": {
       "version_major": 2,
       "version_minor": 0,
       "model_id": "dcf7908026b5478c8edff641209be253"
      }
     },
     "metadata": {},
     "output_type": "display_data"
    },
    {
     "name": "stdout",
     "output_type": "stream",
     "text": [
      "Epoch: 1, Train Loss: 0.0586, Val Acc: 0.9933\n"
     ]
    },
    {
     "data": {
      "text/plain": [
       "Train   2/100:   0%|          | 0/657 [00:00<?, ? batch/s]"
      ],
      "application/vnd.jupyter.widget-view+json": {
       "version_major": 2,
       "version_minor": 0,
       "model_id": "e55d0482203244618fec996ca834624e"
      }
     },
     "metadata": {},
     "output_type": "display_data"
    },
    {
     "data": {
      "text/plain": [
       "Valid   2/100:   0%|          | 0/147 [00:00<?, ? batch/s]"
      ],
      "application/vnd.jupyter.widget-view+json": {
       "version_major": 2,
       "version_minor": 0,
       "model_id": "a368b19ed648473386a15f9f05469c53"
      }
     },
     "metadata": {},
     "output_type": "display_data"
    },
    {
     "name": "stdout",
     "output_type": "stream",
     "text": [
      "Epoch: 2, Train Loss: 0.0587, Val Acc: 0.9928\n"
     ]
    },
    {
     "data": {
      "text/plain": [
       "Train   3/100:   0%|          | 0/657 [00:00<?, ? batch/s]"
      ],
      "application/vnd.jupyter.widget-view+json": {
       "version_major": 2,
       "version_minor": 0,
       "model_id": "cb8b1590f4504dde93a07f0a75825b0e"
      }
     },
     "metadata": {},
     "output_type": "display_data"
    },
    {
     "data": {
      "text/plain": [
       "Valid   3/100:   0%|          | 0/147 [00:00<?, ? batch/s]"
      ],
      "application/vnd.jupyter.widget-view+json": {
       "version_major": 2,
       "version_minor": 0,
       "model_id": "0e402aa50a1644598a7f7250fb6c1820"
      }
     },
     "metadata": {},
     "output_type": "display_data"
    },
    {
     "name": "stdout",
     "output_type": "stream",
     "text": [
      "Epoch: 3, Train Loss: 0.0586, Val Acc: 0.9924\n"
     ]
    },
    {
     "data": {
      "text/plain": [
       "Train   4/100:   0%|          | 0/657 [00:00<?, ? batch/s]"
      ],
      "application/vnd.jupyter.widget-view+json": {
       "version_major": 2,
       "version_minor": 0,
       "model_id": "0f85864c3b9f412e8621464660c0593a"
      }
     },
     "metadata": {},
     "output_type": "display_data"
    },
    {
     "data": {
      "text/plain": [
       "Valid   4/100:   0%|          | 0/147 [00:00<?, ? batch/s]"
      ],
      "application/vnd.jupyter.widget-view+json": {
       "version_major": 2,
       "version_minor": 0,
       "model_id": "313cd9481daa476994631c041b12fdd4"
      }
     },
     "metadata": {},
     "output_type": "display_data"
    },
    {
     "name": "stdout",
     "output_type": "stream",
     "text": [
      "Epoch: 4, Train Loss: 0.0586, Val Acc: 0.9929\n"
     ]
    },
    {
     "data": {
      "text/plain": [
       "Train   5/100:   0%|          | 0/657 [00:00<?, ? batch/s]"
      ],
      "application/vnd.jupyter.widget-view+json": {
       "version_major": 2,
       "version_minor": 0,
       "model_id": "3bce42528979459ba9f5b3f747e53191"
      }
     },
     "metadata": {},
     "output_type": "display_data"
    },
    {
     "data": {
      "text/plain": [
       "Valid   5/100:   0%|          | 0/147 [00:00<?, ? batch/s]"
      ],
      "application/vnd.jupyter.widget-view+json": {
       "version_major": 2,
       "version_minor": 0,
       "model_id": "62417354080c4db09f0ccc243857f197"
      }
     },
     "metadata": {},
     "output_type": "display_data"
    },
    {
     "name": "stdout",
     "output_type": "stream",
     "text": [
      "Epoch: 5, Train Loss: 0.0585, Val Acc: 0.9933\n"
     ]
    },
    {
     "data": {
      "text/plain": [
       "Train   6/100:   0%|          | 0/657 [00:00<?, ? batch/s]"
      ],
      "application/vnd.jupyter.widget-view+json": {
       "version_major": 2,
       "version_minor": 0,
       "model_id": "2815080d2e7f403d94a28e9812ffd386"
      }
     },
     "metadata": {},
     "output_type": "display_data"
    },
    {
     "data": {
      "text/plain": [
       "Valid   6/100:   0%|          | 0/147 [00:00<?, ? batch/s]"
      ],
      "application/vnd.jupyter.widget-view+json": {
       "version_major": 2,
       "version_minor": 0,
       "model_id": "304061b5107944a490935bf873339d4d"
      }
     },
     "metadata": {},
     "output_type": "display_data"
    },
    {
     "name": "stdout",
     "output_type": "stream",
     "text": [
      "Epoch: 6, Train Loss: 0.0586, Val Acc: 0.9935\n"
     ]
    },
    {
     "data": {
      "text/plain": [
       "Train   7/100:   0%|          | 0/657 [00:00<?, ? batch/s]"
      ],
      "application/vnd.jupyter.widget-view+json": {
       "version_major": 2,
       "version_minor": 0,
       "model_id": "3030774e49854da296e6a2d5cab1d66b"
      }
     },
     "metadata": {},
     "output_type": "display_data"
    },
    {
     "data": {
      "text/plain": [
       "Valid   7/100:   0%|          | 0/147 [00:00<?, ? batch/s]"
      ],
      "application/vnd.jupyter.widget-view+json": {
       "version_major": 2,
       "version_minor": 0,
       "model_id": "c672028d7a7841a699d1dec00f809ea1"
      }
     },
     "metadata": {},
     "output_type": "display_data"
    },
    {
     "name": "stdout",
     "output_type": "stream",
     "text": [
      "Epoch: 7, Train Loss: 0.0586, Val Acc: 0.9941\n"
     ]
    },
    {
     "data": {
      "text/plain": [
       "Train   8/100:   0%|          | 0/657 [00:00<?, ? batch/s]"
      ],
      "application/vnd.jupyter.widget-view+json": {
       "version_major": 2,
       "version_minor": 0,
       "model_id": "a3df0952daf7448497a5a78f98c33e9e"
      }
     },
     "metadata": {},
     "output_type": "display_data"
    },
    {
     "data": {
      "text/plain": [
       "Valid   8/100:   0%|          | 0/147 [00:00<?, ? batch/s]"
      ],
      "application/vnd.jupyter.widget-view+json": {
       "version_major": 2,
       "version_minor": 0,
       "model_id": "eabaa0540ea040ff9742c6048f1b9202"
      }
     },
     "metadata": {},
     "output_type": "display_data"
    },
    {
     "name": "stdout",
     "output_type": "stream",
     "text": [
      "Epoch: 8, Train Loss: 0.0586, Val Acc: 0.9937\n"
     ]
    },
    {
     "data": {
      "text/plain": [
       "Train   9/100:   0%|          | 0/657 [00:00<?, ? batch/s]"
      ],
      "application/vnd.jupyter.widget-view+json": {
       "version_major": 2,
       "version_minor": 0,
       "model_id": "72686f5b7f094b0890612f607e724fdd"
      }
     },
     "metadata": {},
     "output_type": "display_data"
    },
    {
     "data": {
      "text/plain": [
       "Valid   9/100:   0%|          | 0/147 [00:00<?, ? batch/s]"
      ],
      "application/vnd.jupyter.widget-view+json": {
       "version_major": 2,
       "version_minor": 0,
       "model_id": "3bd813edfea44aeaafcc1ce05e218b06"
      }
     },
     "metadata": {},
     "output_type": "display_data"
    },
    {
     "name": "stdout",
     "output_type": "stream",
     "text": [
      "Epoch: 9, Train Loss: 0.0586, Val Acc: 0.9929\n"
     ]
    },
    {
     "data": {
      "text/plain": [
       "Train  10/100:   0%|          | 0/657 [00:00<?, ? batch/s]"
      ],
      "application/vnd.jupyter.widget-view+json": {
       "version_major": 2,
       "version_minor": 0,
       "model_id": "c5c5d30d84d44ce3bc335c582263e007"
      }
     },
     "metadata": {},
     "output_type": "display_data"
    },
    {
     "data": {
      "text/plain": [
       "Valid  10/100:   0%|          | 0/147 [00:00<?, ? batch/s]"
      ],
      "application/vnd.jupyter.widget-view+json": {
       "version_major": 2,
       "version_minor": 0,
       "model_id": "d77f0e5438954351bacc0991e00622d9"
      }
     },
     "metadata": {},
     "output_type": "display_data"
    },
    {
     "name": "stdout",
     "output_type": "stream",
     "text": [
      "Epoch: 10, Train Loss: 0.0586, Val Acc: 0.9933\n"
     ]
    },
    {
     "data": {
      "text/plain": [
       "Train  11/100:   0%|          | 0/657 [00:00<?, ? batch/s]"
      ],
      "application/vnd.jupyter.widget-view+json": {
       "version_major": 2,
       "version_minor": 0,
       "model_id": "54bd542644fa4fefb1d3be0a47ecb8ef"
      }
     },
     "metadata": {},
     "output_type": "display_data"
    },
    {
     "data": {
      "text/plain": [
       "Valid  11/100:   0%|          | 0/147 [00:00<?, ? batch/s]"
      ],
      "application/vnd.jupyter.widget-view+json": {
       "version_major": 2,
       "version_minor": 0,
       "model_id": "fc554104c940463db80da94a331791c0"
      }
     },
     "metadata": {},
     "output_type": "display_data"
    },
    {
     "name": "stdout",
     "output_type": "stream",
     "text": [
      "Epoch: 11, Train Loss: 0.0586, Val Acc: 0.9913\n"
     ]
    },
    {
     "data": {
      "text/plain": [
       "Train  12/100:   0%|          | 0/657 [00:00<?, ? batch/s]"
      ],
      "application/vnd.jupyter.widget-view+json": {
       "version_major": 2,
       "version_minor": 0,
       "model_id": "fc604f20231349a38627aca2c04ac4c5"
      }
     },
     "metadata": {},
     "output_type": "display_data"
    },
    {
     "data": {
      "text/plain": [
       "Valid  12/100:   0%|          | 0/147 [00:00<?, ? batch/s]"
      ],
      "application/vnd.jupyter.widget-view+json": {
       "version_major": 2,
       "version_minor": 0,
       "model_id": "e347f397be5442c28ab04de5965e700c"
      }
     },
     "metadata": {},
     "output_type": "display_data"
    },
    {
     "name": "stdout",
     "output_type": "stream",
     "text": [
      "Epoch: 12, Train Loss: 0.0585, Val Acc: 0.9936\n"
     ]
    },
    {
     "data": {
      "text/plain": [
       "Train  13/100:   0%|          | 0/657 [00:00<?, ? batch/s]"
      ],
      "application/vnd.jupyter.widget-view+json": {
       "version_major": 2,
       "version_minor": 0,
       "model_id": "02d8aa69ee5949d890a9ee78cf226b11"
      }
     },
     "metadata": {},
     "output_type": "display_data"
    },
    {
     "data": {
      "text/plain": [
       "Valid  13/100:   0%|          | 0/147 [00:00<?, ? batch/s]"
      ],
      "application/vnd.jupyter.widget-view+json": {
       "version_major": 2,
       "version_minor": 0,
       "model_id": "518e66fb085b4f17a8e95cfddf238544"
      }
     },
     "metadata": {},
     "output_type": "display_data"
    },
    {
     "name": "stdout",
     "output_type": "stream",
     "text": [
      "Epoch: 13, Train Loss: 0.0587, Val Acc: 0.9928\n"
     ]
    },
    {
     "data": {
      "text/plain": [
       "Train  14/100:   0%|          | 0/657 [00:00<?, ? batch/s]"
      ],
      "application/vnd.jupyter.widget-view+json": {
       "version_major": 2,
       "version_minor": 0,
       "model_id": "c9128e65785543fe9f924e7fb08d4fd0"
      }
     },
     "metadata": {},
     "output_type": "display_data"
    },
    {
     "data": {
      "text/plain": [
       "Valid  14/100:   0%|          | 0/147 [00:00<?, ? batch/s]"
      ],
      "application/vnd.jupyter.widget-view+json": {
       "version_major": 2,
       "version_minor": 0,
       "model_id": "57c293f406c74e86bd06f2e712ea6f67"
      }
     },
     "metadata": {},
     "output_type": "display_data"
    },
    {
     "name": "stdout",
     "output_type": "stream",
     "text": [
      "Epoch: 14, Train Loss: 0.0585, Val Acc: 0.9929\n"
     ]
    },
    {
     "data": {
      "text/plain": [
       "Train  15/100:   0%|          | 0/657 [00:00<?, ? batch/s]"
      ],
      "application/vnd.jupyter.widget-view+json": {
       "version_major": 2,
       "version_minor": 0,
       "model_id": "3755ae5acce5468499bd33d1182eafd7"
      }
     },
     "metadata": {},
     "output_type": "display_data"
    },
    {
     "data": {
      "text/plain": [
       "Valid  15/100:   0%|          | 0/147 [00:00<?, ? batch/s]"
      ],
      "application/vnd.jupyter.widget-view+json": {
       "version_major": 2,
       "version_minor": 0,
       "model_id": "e943416769e04e69922ab39a298cb142"
      }
     },
     "metadata": {},
     "output_type": "display_data"
    },
    {
     "name": "stdout",
     "output_type": "stream",
     "text": [
      "Epoch: 15, Train Loss: 0.0585, Val Acc: 0.9935\n"
     ]
    },
    {
     "data": {
      "text/plain": [
       "Train  16/100:   0%|          | 0/657 [00:00<?, ? batch/s]"
      ],
      "application/vnd.jupyter.widget-view+json": {
       "version_major": 2,
       "version_minor": 0,
       "model_id": "8051cfa223304de7b805dbdcb0429b9b"
      }
     },
     "metadata": {},
     "output_type": "display_data"
    },
    {
     "data": {
      "text/plain": [
       "Valid  16/100:   0%|          | 0/147 [00:00<?, ? batch/s]"
      ],
      "application/vnd.jupyter.widget-view+json": {
       "version_major": 2,
       "version_minor": 0,
       "model_id": "e557e80c8455455b852d6babcd2da948"
      }
     },
     "metadata": {},
     "output_type": "display_data"
    },
    {
     "name": "stdout",
     "output_type": "stream",
     "text": [
      "Epoch: 16, Train Loss: 0.0585, Val Acc: 0.9932\n"
     ]
    },
    {
     "data": {
      "text/plain": [
       "Train  17/100:   0%|          | 0/657 [00:00<?, ? batch/s]"
      ],
      "application/vnd.jupyter.widget-view+json": {
       "version_major": 2,
       "version_minor": 0,
       "model_id": "bfab3586db8744fb803de6bacbe5ce46"
      }
     },
     "metadata": {},
     "output_type": "display_data"
    }
   ],
   "execution_count": null
  },
  {
   "metadata": {
    "ExecuteTime": {
     "end_time": "2025-02-14T08:16:41.104312Z",
     "start_time": "2025-02-14T08:16:41.101013Z"
    }
   },
   "cell_type": "code",
   "source": "valid_accs",
   "id": "b9d1f0df9842d3cd",
   "outputs": [
    {
     "data": {
      "text/plain": [
       "[0.9242109745063601,\n",
       " 0.9602426951939965,\n",
       " 0.9665229655649582,\n",
       " 0.9826494225344616,\n",
       " 0.9671084144978445,\n",
       " 0.9828090904252488,\n",
       " 0.9881845760817499,\n",
       " 0.9867475650646655,\n",
       " 0.9885039118633243,\n",
       " 0.9792963968279312,\n",
       " 0.9901005907711959,\n",
       " 0.9836074298791846,\n",
       " 0.992176273351429,\n",
       " 0.9886635797541115,\n",
       " 0.9918037149395923,\n",
       " 0.9906328170738198,\n",
       " 0.9917504923093299,\n",
       " 0.9916440470488052,\n",
       " 0.9914311565277556,\n",
       " 0.992176273351429,\n",
       " 0.9914311565277556,\n",
       " 0.9902070360317207,\n",
       " 0.9928149449145777,\n",
       " 0.988610357123849,\n",
       " 0.991218266006706,\n",
       " 0.9923359412422161,\n",
       " 0.9924956091330034,\n",
       " 0.9916972696790676,\n",
       " 0.9880249081909628,\n",
       " 0.9922294959816914,\n",
       " 0.9919101602001171,\n",
       " 0.9914311565277556,\n",
       " 0.991218266006706,\n",
       " 0.9920698280909043,\n",
       " 0.9916972696790676,\n",
       " 0.9922294959816914,\n",
       " 0.9920698280909043,\n",
       " 0.9926552770237905,\n",
       " 0.991484379158018,\n",
       " 0.9888232476448986,\n",
       " 0.9915908244185427,\n",
       " 0.9906328170738198,\n",
       " 0.9919633828303794,\n",
       " 0.991484379158018,\n",
       " 0.9904199265527702,\n",
       " 0.9922827186119538,\n",
       " 0.9858427803502049,\n",
       " 0.9931875033264144,\n",
       " 0.9913779338974932,\n",
       " 0.9923891638724786,\n",
       " 0.9929213901751025,\n",
       " 0.9933471712172015,\n",
       " 0.9925488317632657,\n",
       " 0.9920166054606419,\n",
       " 0.9923891638724786,\n",
       " 0.992176273351429,\n",
       " 0.9930810580658896,\n",
       " 0.9928681675448401,\n",
       " 0.9920698280909043,\n",
       " 0.9922827186119538,\n",
       " 0.9930810580658896,\n",
       " 0.9931875033264144,\n",
       " 0.9929746128053648,\n",
       " 0.9930810580658896,\n",
       " 0.9919101602001171,\n",
       " 0.9929213901751025,\n",
       " 0.9931875033264144,\n",
       " 0.9923359412422161,\n",
       " 0.9922827186119538,\n",
       " 0.9934536164777263,\n",
       " 0.9929746128053648,\n",
       " 0.9917504923093299,\n",
       " 0.991218266006706,\n",
       " 0.9931875033264144,\n",
       " 0.9919633828303794,\n",
       " 0.989142583426473,\n",
       " 0.9931875033264144,\n",
       " 0.9931875033264144,\n",
       " 0.9932407259566768,\n",
       " 0.9929213901751025,\n",
       " 0.9930810580658896,\n",
       " 0.9928149449145777,\n",
       " 0.9930810580658896,\n",
       " 0.9934003938474639,\n",
       " 0.9921230507211667,\n",
       " 0.9927617222843153,\n",
       " 0.9932407259566768,\n",
       " 0.9927617222843153,\n",
       " 0.9937197296290383,\n",
       " 0.9935600617382511,\n",
       " 0.989834477619884,\n",
       " 0.9913779338974932,\n",
       " 0.9924956091330034,\n",
       " 0.9932407259566768,\n",
       " 0.9925488317632657,\n",
       " 0.9921230507211667,\n",
       " 0.9918569375698547,\n",
       " 0.9932939485869392,\n",
       " 0.9935600617382511,\n",
       " 0.9934536164777263]"
      ]
     },
     "execution_count": 91,
     "metadata": {},
     "output_type": "execute_result"
    }
   ],
   "execution_count": 91
  },
  {
   "metadata": {},
   "cell_type": "markdown",
   "source": "## 保存数据",
   "id": "1d090bb5b97c6720"
  },
  {
   "metadata": {
    "ExecuteTime": {
     "end_time": "2025-02-14T08:16:41.154741Z",
     "start_time": "2025-02-14T08:16:41.152777Z"
    }
   },
   "cell_type": "code",
   "source": [
    "import pickle\n",
    "from datetime import datetime\n",
    "\n",
    "training_data = {'train_losses': train_losses, 'valid_accs': valid_accs}\n",
    "\n",
    "# 获取当前时间，格式为 'YYYYMMDD_HH_MM'\n",
    "timestamp = datetime.now().strftime(\"%Y%m%d_%H_%M\")\n",
    "\n",
    "# 构建文件名\n",
    "file_name = f\"intermediates/training_data_{timestamp}.pkl\"\n",
    "\n",
    "# 保存数据到文件\n",
    "with open(file_name, \"wb\") as f:\n",
    "    pickle.dump(training_data, f)\n"
   ],
   "id": "83c8884ea867d6ab",
   "outputs": [],
   "execution_count": 92
  },
  {
   "metadata": {},
   "cell_type": "markdown",
   "source": "## 加载数据并绘图",
   "id": "8525a9f86841fb77"
  },
  {
   "metadata": {
    "ExecuteTime": {
     "end_time": "2025-02-14T08:16:41.356666Z",
     "start_time": "2025-02-14T08:16:41.200644Z"
    }
   },
   "cell_type": "code",
   "source": [
    "import pickle\n",
    "import matplotlib.pyplot as plt\n",
    "\n",
    "# 构建文件名\n",
    "file_name = \"intermediates/training_data_20250213_01_13.pkl\"\n",
    "\n",
    "# 加载保存的数据\n",
    "with open(file_name, \"rb\") as f:\n",
    "    training_data = pickle.load(f)\n",
    "\n",
    "train_losses = training_data['train_losses']\n",
    "valid_accs = training_data['valid_accs']\n",
    "\n",
    "# 绘制图形\n",
    "plt.figure(figsize=(12, 4))\n",
    "plt.subplot(1, 2, 1)\n",
    "plt.plot(train_losses, label=\"Train Loss\")\n",
    "plt.title(\"Training Loss\")\n",
    "plt.xlabel(\"Epoch\")\n",
    "plt.legend()\n",
    "\n",
    "plt.subplot(1, 2, 2)\n",
    "plt.plot(valid_accs, label=\"Validation Accuracy\")\n",
    "plt.title(\"Validation Accuracy\")\n",
    "plt.xlabel(\"Epoch\")\n",
    "plt.legend()\n",
    "\n",
    "plt.show()\n"
   ],
   "id": "fa99be728c4e0b87",
   "outputs": [
    {
     "data": {
      "text/plain": [
       "<Figure size 1200x400 with 2 Axes>"
      ],
      "image/png": "[encoded data removed]"
     },
     "metadata": {},
     "output_type": "display_data"
    }
   ],
   "execution_count": 93
  },
  {
   "metadata": {
    "ExecuteTime": {
     "end_time": "2025-02-14T08:16:41.371220Z",
     "start_time": "2025-02-14T08:16:41.367465Z"
    }
   },
   "cell_type": "code",
   "source": [
    "# train_losses\n",
    "valid_accs"
   ],
   "id": "c6dd80989d872d36",
   "outputs": [
    {
     "data": {
      "text/plain": [
       "[0.9598701367821598,\n",
       " 0.9749321411464155,\n",
       " 0.9683325349938794,\n",
       " 0.9850976635265315,\n",
       " 0.9747192506253659,\n",
       " 0.9868540103251903,\n",
       " 0.9887700250146362,\n",
       " 0.987226568737027,\n",
       " 0.9900473681409335,\n",
       " 0.9864282292830912,\n",
       " 0.9825429772739369,\n",
       " 0.9916440470488052,\n",
       " 0.9875991271488637,\n",
       " 0.9909521528553941,\n",
       " 0.9919633828303794,\n",
       " 0.986534674543616,\n",
       " 0.9920698280909043,\n",
       " 0.9920698280909043,\n",
       " 0.9906860397040822,\n",
       " 0.9914311565277556,\n",
       " 0.9926020543935281,\n",
       " 0.9902602586619831,\n",
       " 0.9925488317632657,\n",
       " 0.9899409228804088,\n",
       " 0.9927617222843153,\n",
       " 0.992176273351429,\n",
       " 0.9927617222843153,\n",
       " 0.9933471712172015,\n",
       " 0.9889296929054234,\n",
       " 0.9932939485869392,\n",
       " 0.9932939485869392,\n",
       " 0.992176273351429,\n",
       " 0.9929213901751025,\n",
       " 0.989568364468572,\n",
       " 0.9905795944435574,\n",
       " 0.9932939485869392,\n",
       " 0.9922294959816914,\n",
       " 0.9931875033264144,\n",
       " 0.9889829155356857,\n",
       " 0.9915376017882804,\n",
       " 0.9926552770237905,\n",
       " 0.9908457075948693,\n",
       " 0.9914311565277556,\n",
       " 0.9908457075948693,\n",
       " 0.9929213901751025,\n",
       " 0.9939326201500878,\n",
       " 0.9915908244185427,\n",
       " 0.9936132843685135,\n",
       " 0.9926020543935281,\n",
       " 0.9925488317632657,\n",
       " 0.9938793975198255,\n",
       " 0.9935068391079888,\n",
       " 0.9934536164777263,\n",
       " 0.9929213901751025,\n",
       " 0.9935600617382511,\n",
       " 0.9929213901751025,\n",
       " 0.9890893607962106,\n",
       " 0.9937197296290383,\n",
       " 0.9937729522593006,\n",
       " 0.9929746128053648,\n",
       " 0.992442386502741,\n",
       " 0.9932407259566768,\n",
       " 0.9935068391079888,\n",
       " 0.9937197296290383,\n",
       " 0.9935600617382511,\n",
       " 0.9940390654106126,\n",
       " 0.9937729522593006,\n",
       " 0.9934003938474639,\n",
       " 0.9939858427803502,\n",
       " 0.994092288040875,\n",
       " 0.9939326201500878,\n",
       " 0.9939858427803502,\n",
       " 0.9940390654106126,\n",
       " 0.9939326201500878,\n",
       " 0.9939326201500878,\n",
       " 0.9937729522593006,\n",
       " 0.9941987333013997,\n",
       " 0.9940390654106126,\n",
       " 0.9938793975198255,\n",
       " 0.9939326201500878,\n",
       " 0.9943051785619246,\n",
       " 0.994092288040875,\n",
       " 0.993826174889563,\n",
       " 0.9940390654106126,\n",
       " 0.9939858427803502,\n",
       " 0.994092288040875,\n",
       " 0.9939326201500878,\n",
       " 0.9939326201500878,\n",
       " 0.9939858427803502,\n",
       " 0.9939326201500878,\n",
       " 0.9939858427803502,\n",
       " 0.9939326201500878,\n",
       " 0.9940390654106126,\n",
       " 0.9939326201500878,\n",
       " 0.9939326201500878,\n",
       " 0.9939326201500878,\n",
       " 0.9939326201500878,\n",
       " 0.9939326201500878,\n",
       " 0.9939326201500878,\n",
       " 0.9939326201500878]"
      ]
     },
     "execution_count": 94,
     "metadata": {},
     "output_type": "execute_result"
    }
   ],
   "execution_count": 94
  },
  {
   "cell_type": "markdown",
   "id": "272d2f0fcf0c104a",
   "metadata": {},
   "source": [
    "## 结果可视化"
   ]
  },
  {
   "cell_type": "code",
   "id": "a50a779ff74e3ad",
   "metadata": {
    "ExecuteTime": {
     "end_time": "2025-02-14T08:16:41.603595Z",
     "start_time": "2025-02-14T08:16:41.416657Z"
    }
   },
   "source": [
    "import matplotlib.pyplot as plt\n",
    "\n",
    "plt.figure(figsize=(12, 4))\n",
    "plt.subplot(1, 2, 1)\n",
    "plt.plot(train_losses, label=\"Train Loss\")\n",
    "plt.title(\"Training Loss\")\n",
    "plt.xlabel(\"Epoch\")\n",
    "plt.legend()\n",
    "\n",
    "plt.subplot(1, 2, 2)\n",
    "plt.plot(valid_accs, label=\"Validation Accuracy\")\n",
    "plt.title(\"Validation Accuracy\")\n",
    "plt.xlabel(\"Epoch\")\n",
    "plt.legend()\n",
    "\n",
    "plt.savefig(\"intermediates/training_curve.png\")\n",
    "plt.show()"
   ],
   "outputs": [
    {
     "data": {
      "text/plain": [
       "<Figure size 1200x400 with 2 Axes>"
      ],
      "image/png": "[encoded data removed]"
     },
     "metadata": {},
     "output_type": "display_data"
    }
   ],
   "execution_count": 95
  }
 ],
 "metadata": {
  "kernelspec": {
   "display_name": "Python 3 (ipykernel)",
   "language": "python",
   "name": "python3"
  },
  "language_info": {
   "codemirror_mode": {
    "name": "ipython",
    "version": 3
   },
   "file_extension": ".py",
   "mimetype": "text/x-python",
   "name": "python",
   "nbconvert_exporter": "python",
   "pygments_lexer": "ipython3",
   "version": "3.11.2"
  }
 },
 "nbformat": 4,
 "nbformat_minor": 5
}
